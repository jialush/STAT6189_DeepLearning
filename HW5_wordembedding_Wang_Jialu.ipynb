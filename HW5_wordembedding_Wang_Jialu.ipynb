{
  "nbformat": 4,
  "nbformat_minor": 0,
  "metadata": {
    "accelerator": "GPU",
    "colab": {
      "name": "HW5_Wang_Jialu.ipynb",
      "provenance": [],
      "authorship_tag": "ABX9TyOp9vetOmcpGJHOcQDjLfq3",
      "include_colab_link": true
    },
    "kernelspec": {
      "display_name": "Python 3",
      "name": "python3"
    }
  },
  "cells": [
    {
      "cell_type": "markdown",
      "metadata": {
        "id": "view-in-github",
        "colab_type": "text"
      },
      "source": [
        "<a href=\"https://colab.research.google.com/github/jialush/6189HW/blob/master/HW5_Wang_Jialu.ipynb\" target=\"_parent\"><img src=\"https://colab.research.google.com/assets/colab-badge.svg\" alt=\"Open In Colab\"/></a>"
      ]
    },
    {
      "cell_type": "markdown",
      "metadata": {
        "id": "dXKqXek976EO"
      },
      "source": [
        "# Install magnitude"
      ]
    },
    {
      "cell_type": "code",
      "metadata": {
        "id": "ngKHrVGz8Odv",
        "outputId": "e3d25d17-eee7-4097-be94-ef11cfc1af8a",
        "colab": {
          "background_save": true,
          "base_uri": "https://localhost:8080/"
        }
      },
      "source": [
        "# Install Magnitude on Google Colab\n",
        "! echo \"Installing Magnitude.... (please wait, can take a while)\"\n",
        "! (curl https://raw.githubusercontent.com/plasticityai/magnitude/master/install-colab.sh | /bin/bash 1>/dev/null 2>/dev/null)\n",
        "! echo \"Done installing Magnitude.\""
      ],
      "execution_count": null,
      "outputs": [
        {
          "output_type": "stream",
          "text": [
            "Installing Magnitude.... (please wait, can take a while)\n",
            "  % Total    % Received % Xferd  Average Speed   Time    Time     Time  Current\n",
            "                                 Dload  Upload   Total   Spent    Left  Speed\n",
            "100   137  100   137    0     0    575      0 --:--:-- --:--:-- --:--:--   575\n",
            "Done installing Magnitude.\n"
          ],
          "name": "stdout"
        }
      ]
    },
    {
      "cell_type": "code",
      "metadata": {
        "id": "xCRRo9JSBPm-",
        "outputId": "952ee75b-ea04-488f-cde4-42df848c152b",
        "colab": {
          "base_uri": "https://localhost:8080/"
        }
      },
      "source": [
        "!pwd"
      ],
      "execution_count": 13,
      "outputs": [
        {
          "output_type": "stream",
          "text": [
            "/content\n"
          ],
          "name": "stdout"
        }
      ]
    },
    {
      "cell_type": "code",
      "metadata": {
        "id": "2LPObpHwAnRy",
        "outputId": "72991657-6538-4898-e640-da74e583c0d9",
        "colab": {
          "base_uri": "https://localhost:8080/"
        }
      },
      "source": [
        "!wget \"http://magnitude.plasticity.ai/word2vec/GoogleNews-vectors-negative300.magnitude\""
      ],
      "execution_count": 14,
      "outputs": [
        {
          "output_type": "stream",
          "text": [
            "--2020-11-12 19:54:45--  http://magnitude.plasticity.ai/word2vec/GoogleNews-vectors-negative300.magnitude\n",
            "Resolving magnitude.plasticity.ai (magnitude.plasticity.ai)... 52.216.239.154\n",
            "Connecting to magnitude.plasticity.ai (magnitude.plasticity.ai)|52.216.239.154|:80... connected.\n",
            "HTTP request sent, awaiting response... 200 OK\n",
            "Length: 4211335168 (3.9G) [application/x-www-form-urlencoded]\n",
            "Saving to: ‘GoogleNews-vectors-negative300.magnitude’\n",
            "\n",
            "GoogleNews-vectors- 100%[===================>]   3.92G  43.2MB/s    in 95s     \n",
            "\n",
            "2020-11-12 19:56:20 (42.4 MB/s) - ‘GoogleNews-vectors-negative300.magnitude’ saved [4211335168/4211335168]\n",
            "\n"
          ],
          "name": "stdout"
        }
      ]
    },
    {
      "cell_type": "code",
      "metadata": {
        "id": "BzdQU1VJBtCW",
        "outputId": "5a774118-b288-4e33-b538-d5e68b59852d",
        "colab": {
          "base_uri": "https://localhost:8080/"
        }
      },
      "source": [
        "!pwd"
      ],
      "execution_count": 15,
      "outputs": [
        {
          "output_type": "stream",
          "text": [
            "/content\n"
          ],
          "name": "stdout"
        }
      ]
    },
    {
      "cell_type": "code",
      "metadata": {
        "id": "_ERKrjdT-g8g"
      },
      "source": [
        "from pymagnitude import Magnitude \n",
        "file_path=\"GoogleNews-vectors-negative300.magnitude\"\n",
        "vectors=Magnitude(file_path)"
      ],
      "execution_count": 16,
      "outputs": []
    },
    {
      "cell_type": "code",
      "metadata": {
        "id": "2eeIvCY8CuYp",
        "outputId": "32348e5b-b1ff-4851-ec25-7a05a11d2dcf",
        "colab": {
          "base_uri": "https://localhost:8080/"
        }
      },
      "source": [
        "vectors.distance('cat','dog')"
      ],
      "execution_count": 17,
      "outputs": [
        {
          "output_type": "execute_result",
          "data": {
            "text/plain": [
              "0.69145405"
            ]
          },
          "metadata": {
            "tags": []
          },
          "execution_count": 17
        }
      ]
    },
    {
      "cell_type": "markdown",
      "metadata": {
        "id": "jcpgK7VgM_lp"
      },
      "source": [
        "# What is the dimensionality of these word embeddings? Provide an integer answer."
      ]
    },
    {
      "cell_type": "code",
      "metadata": {
        "id": "5pVGP7XkEYy3",
        "outputId": "8a1ec60d-4203-496b-ac79-bca483f1d12d",
        "colab": {
          "base_uri": "https://localhost:8080/"
        }
      },
      "source": [
        "len(vectors),vectors.dim #300\n"
      ],
      "execution_count": 21,
      "outputs": [
        {
          "output_type": "execute_result",
          "data": {
            "text/plain": [
              "(3000000, 300)"
            ]
          },
          "metadata": {
            "tags": []
          },
          "execution_count": 21
        }
      ]
    },
    {
      "cell_type": "code",
      "metadata": {
        "id": "MEeDyLX1EyjC"
      },
      "source": [
        "vectors.query(\"cat\")"
      ],
      "execution_count": null,
      "outputs": []
    },
    {
      "cell_type": "code",
      "metadata": {
        "id": "CXuMPUwwFFs9"
      },
      "source": [
        "vectors[42]"
      ],
      "execution_count": null,
      "outputs": []
    },
    {
      "cell_type": "code",
      "metadata": {
        "id": "tHMf7-QUFaQG"
      },
      "source": [
        "vectors.query([\"I\", \"read\"])"
      ],
      "execution_count": null,
      "outputs": []
    },
    {
      "cell_type": "code",
      "metadata": {
        "id": "KgPj4nxkGIfQ",
        "outputId": "91b35aca-b952-4082-b70a-379340ce43e1",
        "colab": {
          "base_uri": "https://localhost:8080/"
        }
      },
      "source": [
        "vectors.query([[\"I\", \"read\", \"a\", \"book\"], [\"I\", \"read\", \"a\", \"magazine\"]])"
      ],
      "execution_count": 31,
      "outputs": [
        {
          "output_type": "execute_result",
          "data": {
            "text/plain": [
              "array([[[ 0.0332858 , -0.0021189 ,  0.0470522 , ..., -0.0028509 ,\n",
              "          0.0179784 , -0.0435592 ],\n",
              "        [-0.0131628 , -0.0455637 , -0.0483987 , ..., -0.0115428 ,\n",
              "         -0.0429311 , -0.0289582 ],\n",
              "        [-0.01974811,  0.08088748,  0.00189519, ...,  0.06656797,\n",
              "          0.01162063,  0.01157236],\n",
              "        [ 0.0448648 , -0.0103908 , -0.0178682 , ...,  0.0384555 ,\n",
              "         -0.0229179 , -0.0020514 ]],\n",
              "\n",
              "       [[ 0.0332858 , -0.0021189 ,  0.0470522 , ..., -0.0028509 ,\n",
              "          0.0179784 , -0.0435592 ],\n",
              "        [-0.0131628 , -0.0455637 , -0.0483987 , ..., -0.0115428 ,\n",
              "         -0.0429311 , -0.0289582 ],\n",
              "        [-0.01974811,  0.08088748,  0.00189519, ...,  0.06656797,\n",
              "          0.01162063,  0.01157236],\n",
              "        [ 0.0593235 ,  0.0266956 , -0.0399653 , ...,  0.077745  ,\n",
              "          0.0213877 ,  0.0811795 ]]], dtype=float32)"
            ]
          },
          "metadata": {
            "tags": []
          },
          "execution_count": 31
        }
      ]
    },
    {
      "cell_type": "code",
      "metadata": {
        "id": "OXvsYC8hGK8H",
        "outputId": "376ffd22-f754-45e4-f97c-59fc6037729f",
        "colab": {
          "base_uri": "https://localhost:8080/"
        }
      },
      "source": [
        "vectors.query([[\"I\", \"read\"], [\"I\", \"read\", \"a\", \"magazine\"]])"
      ],
      "execution_count": 32,
      "outputs": [
        {
          "output_type": "execute_result",
          "data": {
            "text/plain": [
              "array([[[ 0.0332858 , -0.0021189 ,  0.0470522 , ..., -0.0028509 ,\n",
              "          0.0179784 , -0.0435592 ],\n",
              "        [-0.0131628 , -0.0455637 , -0.0483987 , ..., -0.0115428 ,\n",
              "         -0.0429311 , -0.0289582 ],\n",
              "        [ 0.        ,  0.        ,  0.        , ...,  0.        ,\n",
              "          0.        ,  0.        ],\n",
              "        [ 0.        ,  0.        ,  0.        , ...,  0.        ,\n",
              "          0.        ,  0.        ]],\n",
              "\n",
              "       [[ 0.0332858 , -0.0021189 ,  0.0470522 , ..., -0.0028509 ,\n",
              "          0.0179784 , -0.0435592 ],\n",
              "        [-0.0131628 , -0.0455637 , -0.0483987 , ..., -0.0115428 ,\n",
              "         -0.0429311 , -0.0289582 ],\n",
              "        [-0.01974811,  0.08088748,  0.00189519, ...,  0.06656797,\n",
              "          0.01162063,  0.01157236],\n",
              "        [ 0.0593235 ,  0.0266956 , -0.0399653 , ...,  0.077745  ,\n",
              "          0.0213877 ,  0.0811795 ]]], dtype=float32)"
            ]
          },
          "metadata": {
            "tags": []
          },
          "execution_count": 32
        }
      ]
    },
    {
      "cell_type": "code",
      "metadata": {
        "id": "7sBrVCSnGaSR"
      },
      "source": [
        "vectors[:42] "
      ],
      "execution_count": null,
      "outputs": []
    },
    {
      "cell_type": "code",
      "metadata": {
        "id": "15rhvFhsGhK1"
      },
      "source": [
        "vectors[42, 1337, 2001] "
      ],
      "execution_count": null,
      "outputs": []
    },
    {
      "cell_type": "code",
      "metadata": {
        "id": "68xGi0RRGyhE",
        "outputId": "765f238e-9482-45e8-e96b-8dcb50856153",
        "colab": {
          "base_uri": "https://localhost:8080/"
        }
      },
      "source": [
        "vectors.distance(\"cat\", \"dog\")"
      ],
      "execution_count": 40,
      "outputs": [
        {
          "output_type": "execute_result",
          "data": {
            "text/plain": [
              "0.69145405"
            ]
          },
          "metadata": {
            "tags": []
          },
          "execution_count": 40
        }
      ]
    },
    {
      "cell_type": "code",
      "metadata": {
        "id": "t2wo2FmeG01b",
        "outputId": "af9ee5af-ffe1-4aea-e9d6-81a0fa435aa2",
        "colab": {
          "base_uri": "https://localhost:8080/"
        }
      },
      "source": [
        "vectors.distance(\"cat\", [\"dog\", \"tiger\"])"
      ],
      "execution_count": 41,
      "outputs": [
        {
          "output_type": "execute_result",
          "data": {
            "text/plain": [
              "[0.69145405, 0.9825516]"
            ]
          },
          "metadata": {
            "tags": []
          },
          "execution_count": 41
        }
      ]
    },
    {
      "cell_type": "code",
      "metadata": {
        "id": "t91UCPB4HBqU",
        "outputId": "9760d986-d64c-444e-ad82-00bc697a926f",
        "colab": {
          "base_uri": "https://localhost:8080/"
        }
      },
      "source": [
        "vectors.similarity(\"cat\", \"dog\")"
      ],
      "execution_count": 42,
      "outputs": [
        {
          "output_type": "execute_result",
          "data": {
            "text/plain": [
              "0.76094574"
            ]
          },
          "metadata": {
            "tags": []
          },
          "execution_count": 42
        }
      ]
    },
    {
      "cell_type": "code",
      "metadata": {
        "id": "LMVOkuwhHBwT",
        "outputId": "f272ae3b-a87c-42b1-b421-ec122d0ba7e3",
        "colab": {
          "base_uri": "https://localhost:8080/"
        }
      },
      "source": [
        "vectors.similarity(\"cat\", [\"dog\", \"tiger\"])"
      ],
      "execution_count": 44,
      "outputs": [
        {
          "output_type": "execute_result",
          "data": {
            "text/plain": [
              "[0.76094574, 0.5172962]"
            ]
          },
          "metadata": {
            "tags": []
          },
          "execution_count": 44
        }
      ]
    },
    {
      "cell_type": "markdown",
      "metadata": {
        "id": "Q-8ehUynI6Lg"
      },
      "source": [
        "# According to the word embeddings, which of these words is not like the others? ['tissue', 'papyrus','manila', 'newsprint', 'parchment', 'gazette']"
      ]
    },
    {
      "cell_type": "code",
      "metadata": {
        "id": "0gF1JIDII6UN",
        "outputId": "42d1bae7-1953-4cd2-ec16-217c32a69787",
        "colab": {
          "base_uri": "https://localhost:8080/",
          "height": 34
        }
      },
      "source": [
        "vectors.doesnt_match(['tissue', 'papyrus','manila', 'newsprint', 'parchment', 'gazette']) # tissue"
      ],
      "execution_count": 52,
      "outputs": [
        {
          "output_type": "execute_result",
          "data": {
            "application/vnd.google.colaboratory.intrinsic+json": {
              "type": "string"
            },
            "text/plain": [
              "'tissue'"
            ]
          },
          "metadata": {
            "tags": []
          },
          "execution_count": 52
        }
      ]
    },
    {
      "cell_type": "code",
      "metadata": {
        "id": "oEyf5gqaHMOx",
        "outputId": "3b6768c2-59c4-4fd8-86e6-9b26803a73ee",
        "colab": {
          "base_uri": "https://localhost:8080/",
          "height": 34
        }
      },
      "source": [
        "vectors.most_similar_to_given(\"cat\", [\"dog\", \"television\", \"laptop\"])"
      ],
      "execution_count": 45,
      "outputs": [
        {
          "output_type": "execute_result",
          "data": {
            "application/vnd.google.colaboratory.intrinsic+json": {
              "type": "string"
            },
            "text/plain": [
              "'dog'"
            ]
          },
          "metadata": {
            "tags": []
          },
          "execution_count": 45
        }
      ]
    },
    {
      "cell_type": "code",
      "metadata": {
        "id": "pio1VTy6HM66",
        "outputId": "f258bbc9-6408-45fa-a47e-a211b5a35b26",
        "colab": {
          "base_uri": "https://localhost:8080/"
        }
      },
      "source": [
        "vectors.most_similar(\"cat\", topn = 10) # Most similar by key"
      ],
      "execution_count": 46,
      "outputs": [
        {
          "output_type": "execute_result",
          "data": {
            "text/plain": [
              "[('cats', 0.8099379),\n",
              " ('dog', 0.76094574),\n",
              " ('kitten', 0.7464986),\n",
              " ('feline', 0.73262346),\n",
              " ('beagle', 0.71505845),\n",
              " ('puppy', 0.7075454),\n",
              " ('pup', 0.69342905),\n",
              " ('pet', 0.6891531),\n",
              " ('felines', 0.67559326),\n",
              " ('chihuahua', 0.6709762)]"
            ]
          },
          "metadata": {
            "tags": []
          },
          "execution_count": 46
        }
      ]
    },
    {
      "cell_type": "code",
      "metadata": {
        "id": "ixzP_zk4H8RK",
        "outputId": "b38a2ba6-86cb-429b-a4e5-759ac5f7038a",
        "colab": {
          "base_uri": "https://localhost:8080/"
        }
      },
      "source": [
        "vectors.most_similar(vectors.query(\"cat\"), topn = 10) # Most similar by vector"
      ],
      "execution_count": 47,
      "outputs": [
        {
          "output_type": "execute_result",
          "data": {
            "text/plain": [
              "[('cat', 1.0000001),\n",
              " ('cats', 0.8099379),\n",
              " ('dog', 0.76094574),\n",
              " ('kitten', 0.7464986),\n",
              " ('feline', 0.73262346),\n",
              " ('beagle', 0.71505845),\n",
              " ('puppy', 0.7075454),\n",
              " ('pup', 0.69342905),\n",
              " ('pet', 0.6891531),\n",
              " ('felines', 0.67559326)]"
            ]
          },
          "metadata": {
            "tags": []
          },
          "execution_count": 47
        }
      ]
    },
    {
      "cell_type": "markdown",
      "metadata": {
        "id": "6hptxhPFI90k"
      },
      "source": [
        "# What are the top-5 most similar words to picnic (not including picnic itself)?"
      ]
    },
    {
      "cell_type": "code",
      "metadata": {
        "id": "TdQn2njLI-CV",
        "outputId": "f4981713-8f9f-4f5e-923f-8584449a2597",
        "colab": {
          "base_uri": "https://localhost:8080/"
        }
      },
      "source": [
        "vectors.most_similar(\"picnic\", topn = 10) # Most similar by key: picnics"
      ],
      "execution_count": 51,
      "outputs": [
        {
          "output_type": "execute_result",
          "data": {
            "text/plain": [
              "[('picnics', 0.7400875),\n",
              " ('picnic_lunch', 0.721374),\n",
              " ('Picnic', 0.700534),\n",
              " ('potluck_picnic', 0.6683274),\n",
              " ('picnic_supper', 0.65189123),\n",
              " ('picnicking', 0.63550216),\n",
              " ('cookout', 0.63243484),\n",
              " ('Hiking_biking_camping', 0.6256069),\n",
              " ('barbeque', 0.62256277),\n",
              " ('barbecue', 0.6195759)]"
            ]
          },
          "metadata": {
            "tags": []
          },
          "execution_count": 51
        }
      ]
    },
    {
      "cell_type": "code",
      "metadata": {
        "id": "YRmvKizKL7io",
        "outputId": "85853ebc-4836-4043-898b-618ecffb97ea",
        "colab": {
          "base_uri": "https://localhost:8080/"
        }
      },
      "source": [
        "vectors.most_similar(positive = [\"woman\", \"king\"], negative = [\"man\"]) # queen"
      ],
      "execution_count": 54,
      "outputs": [
        {
          "output_type": "execute_result",
          "data": {
            "text/plain": [
              "[('queen', 0.7118193),\n",
              " ('monarch', 0.61896753),\n",
              " ('princess', 0.5902431),\n",
              " ('crown_prince', 0.5499462),\n",
              " ('prince', 0.5377322),\n",
              " ('kings', 0.5236845),\n",
              " ('Queen_Consort', 0.5235946),\n",
              " ('queens', 0.5181134),\n",
              " ('sultan', 0.5098594),\n",
              " ('monarchy', 0.50874126)]"
            ]
          },
          "metadata": {
            "tags": []
          },
          "execution_count": 54
        }
      ]
    },
    {
      "cell_type": "code",
      "metadata": {
        "id": "WpgK-KOgL74J",
        "outputId": "b5b7c3a4-0c6e-44d1-b215-b8ab8a0b1511",
        "colab": {
          "base_uri": "https://localhost:8080/"
        }
      },
      "source": [
        "vectors.most_similar_cosmul(positive = [\"woman\", \"king\"], negative = [\"man\"]) # queen"
      ],
      "execution_count": 55,
      "outputs": [
        {
          "output_type": "execute_result",
          "data": {
            "text/plain": [
              "[('queen', 0.9314122),\n",
              " ('monarch', 0.8585335),\n",
              " ('princess', 0.84765667),\n",
              " ('Queen_Consort', 0.815027),\n",
              " ('queens', 0.80998164),\n",
              " ('crown_prince', 0.80899775),\n",
              " ('royal_palace', 0.80273074),\n",
              " ('monarchy', 0.8019613),\n",
              " ('prince', 0.80097973),\n",
              " ('empress', 0.79583895)]"
            ]
          },
          "metadata": {
            "tags": []
          },
          "execution_count": 55
        }
      ]
    },
    {
      "cell_type": "markdown",
      "metadata": {
        "id": "p61XhK_JKgtT"
      },
      "source": [
        "# Solve the following analogy: leg is to jump as X is to throw.\n"
      ]
    },
    {
      "cell_type": "code",
      "metadata": {
        "id": "oASszF1BKg3j",
        "outputId": "e208f252-fa3e-4b9a-c44d-72b76cd96019",
        "colab": {
          "base_uri": "https://localhost:8080/"
        }
      },
      "source": [
        "vectors.most_similar(positive = [\"leg\", \"throw\"], negative = [\"jump\"]) # forearm"
      ],
      "execution_count": 53,
      "outputs": [
        {
          "output_type": "execute_result",
          "data": {
            "text/plain": [
              "[('forearm', 0.48294652),\n",
              " ('shin', 0.47376165),\n",
              " ('elbow', 0.4679689),\n",
              " ('metacarpal_bone', 0.46781474),\n",
              " ('metacarpal_bones', 0.46605822),\n",
              " ('ankle', 0.46434426),\n",
              " ('shoulder', 0.46183354),\n",
              " ('thigh', 0.45393682),\n",
              " ('knee', 0.4455707),\n",
              " ('ulna_bone', 0.4423491)]"
            ]
          },
          "metadata": {
            "tags": []
          },
          "execution_count": 53
        }
      ]
    },
    {
      "cell_type": "code",
      "metadata": {
        "id": "4BGXIJZyL3xV",
        "outputId": "3e5361fa-1ed4-40ba-a2de-38a78a9361eb",
        "colab": {
          "base_uri": "https://localhost:8080/"
        }
      },
      "source": [
        "vectors.most_similar_cosmul(positive = [\"leg\", \"throw\"], negative = [\"jump\"]) # forearm"
      ],
      "execution_count": 58,
      "outputs": [
        {
          "output_type": "execute_result",
          "data": {
            "text/plain": [
              "[('forearm', 0.876599),\n",
              " ('metacarpal_bone', 0.8747273),\n",
              " ('elbow', 0.86924946),\n",
              " ('metacarpal_bones', 0.86801016),\n",
              " ('knuckle', 0.8675384),\n",
              " ('shoulder', 0.86726993),\n",
              " ('shin', 0.86424685),\n",
              " ('nonthrowing_shoulder', 0.86377436),\n",
              " ('dislocating_finger', 0.857464),\n",
              " ('pinkie', 0.851935)]"
            ]
          },
          "metadata": {
            "tags": []
          },
          "execution_count": 58
        }
      ]
    }
  ]
}
